{
 "cells": [
  {
   "cell_type": "code",
   "execution_count": 4,
   "id": "b83e74a6",
   "metadata": {},
   "outputs": [
    {
     "name": "stdout",
     "output_type": "stream",
     "text": [
      "Your One Time Password is \n",
      "7571\n"
     ]
    }
   ],
   "source": [
    "import random as r\n",
    "\n",
    "def Otpgen():\n",
    "    otp=\"\"\n",
    "    for i in range(4):\n",
    "        otp+=str(r.randint(1,9))\n",
    "    print(\"Your One Time Password is \")\n",
    "    print(otp)\n",
    "Otpgen()"
   ]
  },
  {
   "cell_type": "code",
   "execution_count": null,
   "id": "940e5fac",
   "metadata": {},
   "outputs": [],
   "source": []
  }
 ],
 "metadata": {
  "kernelspec": {
   "display_name": "Python 3 (ipykernel)",
   "language": "python",
   "name": "python3"
  },
  "language_info": {
   "codemirror_mode": {
    "name": "ipython",
    "version": 3
   },
   "file_extension": ".py",
   "mimetype": "text/x-python",
   "name": "python",
   "nbconvert_exporter": "python",
   "pygments_lexer": "ipython3",
   "version": "3.9.7"
  }
 },
 "nbformat": 4,
 "nbformat_minor": 5
}
